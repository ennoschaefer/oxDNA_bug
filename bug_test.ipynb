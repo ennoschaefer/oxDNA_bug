{
 "cells": [
  {
   "cell_type": "code",
   "execution_count": 1,
   "id": "78241fac-d2e3-462a-b768-20cb0d7adb41",
   "metadata": {},
   "outputs": [],
   "source": [
    "import oxpy"
   ]
  },
  {
   "cell_type": "code",
   "execution_count": 2,
   "id": "cee37a4a-93e9-479e-a31a-7346276ad8ed",
   "metadata": {},
   "outputs": [],
   "source": [
    "# set further relaxation settings\n",
    "md = oxpy.InputFile()\n",
    "\n",
    "md[\"topology\"] = \"1k_plasmid.top\"\n",
    "md[\"conf_file\"] = \"relaxed.conf\"\n",
    "md[\"steps\"] = \"1e6\"\n",
    "md[\"sim_type\"] = \"MD\"\n",
    "md[\"dt\"] = \"0.002\"\n",
    "md[\"thermostat\"] = \"bussi\"\n",
    "md[\"bussi_tau\"] = \"1000\"\n",
    "md[\"newtonian_steps\"] = \"53\"\n",
    "md[\"max_backbone_force\"] = \"5\"\n",
    "md[\"max_backbone_force_far\"] = \"10\"\n",
    "md[\"T\"] = \"0.1\" \n",
    "md[\"trajectory_file\"] = \"trajectory.dat\"\n",
    "md[\"energy_file\"] = \"energy.dat\"\n",
    "md[\"backend\"] = \"CUDA\"\n",
    "md[\"verlet_skin\"] = \"0.2\"\n",
    "md[\"restart_step_counter\"] = \"true\"\n",
    "md[\"trajectory_print_momenta\"] = \"false\" \n",
    "md[\"print_energy_every\"] = \"1e5\"\n",
    "md[\"time_scale\"] = \"linear\"\n",
    "md[\"print_conf_interval\"] = \"1e5\"\n",
    "md[\"refresh_vel\"] = \"true\"\n",
    "md[\"max_density_multiplier\"] = \"10\"\n",
    "md[\"cells_auto_optimisation\"] = \"false\""
   ]
  },
  {
   "cell_type": "code",
   "execution_count": null,
   "id": "2ec95c62-cd54-45e6-98ed-fca98adf6b8b",
   "metadata": {
    "scrolled": true
   },
   "outputs": [],
   "source": [
    "# run relaxing \n",
    "with oxpy.Context():\n",
    "            manager = oxpy.OxpyManager(md)\n",
    "            manager.run_complete()\n",
    "            del manager\n",
    "\n",
    "# ---> crashes! see picture in README.md"
   ]
  },
  {
   "cell_type": "code",
   "execution_count": 7,
   "id": "5316402e-ce72-4dc8-b314-0918571afb3d",
   "metadata": {},
   "outputs": [],
   "source": [
    "# Running the job as a batch job\n",
    "\n",
    "# exporting oxpy.core.InputFile to a file\n",
    "keys = md.keys()\n",
    "with open(\"input\", \"w\") as file: \n",
    "    for key in keys:\n",
    "        file.write(f\"{key} = {md[key]}\\n\")\n",
    "   \n",
    "# !sbatch oxDNA_5gb_mem.sh input \n",
    "\n",
    "# the job created \"slurm-4734704.out\". I tried to request more memory, but I think that is not the problem I face. \n",
    "# In the oxDNA documentation, I couldnt find any parameters that I need to supply when I use \"cells_auto_optimisation = false\":\n",
    "# Thus, I dont know what to do"
   ]
  },
  {
   "cell_type": "code",
   "execution_count": null,
   "id": "26d82954-d49a-408e-951b-ebe8955ffa32",
   "metadata": {},
   "outputs": [],
   "source": [
    "# running the batch job with more memory\n",
    "\n",
    "# !sbatch oxDNA_5gb_mem.sh input \n",
    "\n",
    "# created \"slurm-4734766.out\", which shows the same error message as the batch job with less memory."
   ]
  }
 ],
 "metadata": {
  "kernelspec": {
   "display_name": "Python 3 (ipykernel)",
   "language": "python",
   "name": "python3"
  },
  "language_info": {
   "codemirror_mode": {
    "name": "ipython",
    "version": 3
   },
   "file_extension": ".py",
   "mimetype": "text/x-python",
   "name": "python",
   "nbconvert_exporter": "python",
   "pygments_lexer": "ipython3",
   "version": "3.12.4"
  }
 },
 "nbformat": 4,
 "nbformat_minor": 5
}
